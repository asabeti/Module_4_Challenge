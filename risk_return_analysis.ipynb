{
 "cells": [
  {
   "cell_type": "markdown",
   "metadata": {},
   "source": [
    "# Analyzing Portfolio Risk and Return\n",
    "\n",
    "In this Challenge, you'll assume the role of a quantitative analyst for a FinTech investing platform. This platform aims to offer clients a one-stop online investment solution for their retirement portfolios that’s both inexpensive and high quality. (Think about [Wealthfront](https://www.wealthfront.com/) or [Betterment](https://www.betterment.com/)). To keep the costs low, the firm uses algorithms to build each client's portfolio. The algorithms choose from various investment styles and options.\n",
    "\n",
    "You've been tasked with evaluating four new investment options for inclusion in the client portfolios. Legendary fund and hedge-fund managers run all four selections. (People sometimes refer to these managers as **whales**, because of the large amount of money that they manage). You’ll need to determine the fund with the most investment potential based on key risk-management metrics: the daily returns, standard deviations, Sharpe ratios, and betas.\n",
    "\n",
    "## Instructions\n",
    "\n",
    "### Import the Data\n",
    "\n",
    "Use the ``risk_return_analysis.ipynb`` file to complete the following steps:\n",
    "\n",
    "1. Import the required libraries and dependencies.\n",
    "\n",
    "2. Use the `read_csv` function and the `Path` module to read the `whale_navs.csv` file into a Pandas DataFrame. Be sure to create a `DateTimeIndex`. Review the first five rows of the DataFrame by using the `head` function.\n",
    "\n",
    "3. Use the Pandas `pct_change` function together with `dropna` to create the daily returns DataFrame. Base this DataFrame on the NAV prices of the four portfolios and on the closing price of the S&P 500 Index. Review the first five rows of the daily returns DataFrame.\n",
    "\n",
    "### Analyze the Performance\n",
    "\n",
    "Analyze the data to determine if any of the portfolios outperform the broader stock market, which the S&P 500 represents. To do so, complete the following steps:\n",
    "\n",
    "1. Use the default Pandas `plot` function to visualize the daily return data of the four fund portfolios and the S&P 500. Be sure to include the `title` parameter, and adjust the figure size if necessary.\n",
    "\n",
    "2. Use the Pandas `cumprod` function to calculate the cumulative returns for the four fund portfolios and the S&P 500. Review the last five rows of the cumulative returns DataFrame by using the Pandas `tail` function.\n",
    "\n",
    "3. Use the default Pandas `plot` to visualize the cumulative return values for the four funds and the S&P 500 over time. Be sure to include the `title` parameter, and adjust the figure size if necessary.\n",
    "\n",
    "4. Answer the following question: Based on the cumulative return data and the visualization, do any of the four fund portfolios outperform the S&P 500 Index?\n",
    "\n",
    "### Analyze the Volatility\n",
    "\n",
    "Analyze the volatility of each of the four fund portfolios and of the S&P 500 Index by using box plots. To do so, complete the following steps:\n",
    "\n",
    "1. Use the Pandas `plot` function and the `kind=\"box\"` parameter to visualize the daily return data for each of the four portfolios and for the S&P 500 in a box plot. Be sure to include the `title` parameter, and adjust the figure size if necessary.\n",
    "\n",
    "2. Use the Pandas `drop` function to create a new DataFrame that contains the data for just the four fund portfolios by dropping the S&P 500 column. Visualize the daily return data for just the four fund portfolios by using another box plot. Be sure to include the `title` parameter, and adjust the figure size if necessary.\n",
    "\n",
    "    > **Hint** Save this new DataFrame&mdash;the one that contains the data for just the four fund portfolios. You’ll use it throughout the analysis.\n",
    "\n",
    "3. Answer the following question: Based on the box plot visualization of just the four fund portfolios, which fund was the most volatile (with the greatest spread) and which was the least volatile (with the smallest spread)?\n",
    "\n",
    "### Analyze the Risk\n",
    "\n",
    "Evaluate the risk profile of each portfolio by using the standard deviation and the beta. To do so, complete the following steps:\n",
    "\n",
    "1. Use the Pandas `std` function to calculate the standard deviation for each of the four portfolios and for the S&P 500. Review the standard deviation calculations, sorted from smallest to largest.\n",
    "\n",
    "2. Calculate the annualized standard deviation for each of the four portfolios and for the S&P 500. To do that, multiply the standard deviation by the square root of the number of trading days. Use 252 for that number.\n",
    "\n",
    "3. Use the daily returns DataFrame and a 21-day rolling window to plot the rolling standard deviations of the four fund portfolios and of the S&P 500 index. Be sure to include the `title` parameter, and adjust the figure size if necessary.\n",
    "\n",
    "4. Use the daily returns DataFrame and a 21-day rolling window to plot the rolling standard deviations of only the four fund portfolios. Be sure to include the `title` parameter, and adjust the figure size if necessary.\n",
    "\n",
    "5. Answer the following three questions:\n",
    "\n",
    "* Based on the annualized standard deviation, which portfolios pose more risk than the S&P 500?\n",
    "\n",
    "* Based on the rolling metrics, does the risk of each portfolio increase at the same time that the risk of the S&P 500 increases?\n",
    "\n",
    "* Based on the rolling standard deviations of only the four fund portfolios, which portfolio poses the most risk? Does this change over time?\n",
    "\n",
    "### Analyze the Risk-Return Profile\n",
    "\n",
    "To determine the overall risk of an asset or portfolio, quantitative analysts and investment managers consider not only its risk metrics but also its risk-return profile. After all, if you have two portfolios that each offer a 10% return but one has less risk, you’d probably invest in the smaller-risk portfolio. For this reason, you need to consider the Sharpe ratios for each portfolio. To do so, complete the following steps:\n",
    "\n",
    "1. Use the daily return DataFrame to calculate the annualized average return data for the four fund portfolios and for the S&P 500. Use 252 for the number of trading days. Review the annualized average returns, sorted from lowest to highest.\n",
    "\n",
    "2. Calculate the Sharpe ratios for the four fund portfolios and for the S&P 500. To do that, divide the annualized average return by the annualized standard deviation for each. Review the resulting Sharpe ratios, sorted from lowest to highest.\n",
    "\n",
    "3. Visualize the Sharpe ratios for the four funds and for the S&P 500 in a bar chart. Be sure to include the `title` parameter, and adjust the figure size if necessary.\n",
    "\n",
    "4. Answer the following question: Which of the four portfolios offers the best risk-return profile? Which offers the worst?\n",
    "\n",
    "#### Diversify the Portfolio\n",
    "\n",
    "Your analysis is nearing completion. Now, you need to evaluate how the portfolios react relative to the broader market. Based on your analysis so far, choose two portfolios that you’re most likely to recommend as investment options. To start your analysis, complete the following step:\n",
    "\n",
    "* Use the Pandas `var` function to calculate the variance of the S&P 500 by using a 60-day rolling window. Visualize the last five rows of the variance of the S&P 500.\n",
    "\n",
    "Next, for each of the two portfolios that you chose, complete the following steps:\n",
    "\n",
    "1. Using the 60-day rolling window, the daily return data, and the S&P 500 returns, calculate the covariance. Review the last five rows of the covariance of the portfolio.\n",
    "\n",
    "2. Calculate the beta of the portfolio. To do that, divide the covariance of the portfolio by the variance of the S&P 500.\n",
    "\n",
    "3. Use the Pandas `mean` function to calculate the average value of the 60-day rolling beta of the portfolio.\n",
    "\n",
    "4. Plot the 60-day rolling beta. Be sure to include the `title` parameter, and adjust the figure size if necessary.\n",
    "\n",
    "Finally, answer the following two questions:\n",
    "\n",
    "* Which of the two portfolios seem more sensitive to movements in the S&P 500?\n",
    "\n",
    "* Which of the two portfolios do you recommend for inclusion in your firm’s suite of fund offerings?\n"
   ]
  },
  {
   "cell_type": "markdown",
   "metadata": {},
   "source": [
    "### Import the Data"
   ]
  },
  {
   "cell_type": "markdown",
   "metadata": {},
   "source": [
    "#### Step 1: Import the required libraries and dependencies."
   ]
  },
  {
   "cell_type": "code",
   "execution_count": 3,
   "metadata": {},
   "outputs": [],
   "source": [
    "# Import the required libraries and dependencies\n",
    "import pandas as pd\n",
    "\n",
    "from pathlib import Path\n",
    "\n",
    "%matplotlib inline"
   ]
  },
  {
   "cell_type": "markdown",
   "metadata": {},
   "source": [
    "#### Step 2: Use the `read_csv` function and the `Path` module to read the `whale_navs.csv` file into a Pandas DataFrame. Be sure to create a `DateTimeIndex`. Review the first five rows of the DataFrame by using the `head` function."
   ]
  },
  {
   "cell_type": "code",
   "execution_count": 4,
   "metadata": {},
   "outputs": [
    {
     "data": {
      "text/html": [
       "<div>\n",
       "<style scoped>\n",
       "    .dataframe tbody tr th:only-of-type {\n",
       "        vertical-align: middle;\n",
       "    }\n",
       "\n",
       "    .dataframe tbody tr th {\n",
       "        vertical-align: top;\n",
       "    }\n",
       "\n",
       "    .dataframe thead th {\n",
       "        text-align: right;\n",
       "    }\n",
       "</style>\n",
       "<table border=\"1\" class=\"dataframe\">\n",
       "  <thead>\n",
       "    <tr style=\"text-align: right;\">\n",
       "      <th></th>\n",
       "      <th>SOROS FUND MANAGEMENT LLC</th>\n",
       "      <th>PAULSON &amp; CO.INC.</th>\n",
       "      <th>TIGER GLOBAL MANAGEMENT LLC</th>\n",
       "      <th>BERKSHIRE HATHAWAY INC</th>\n",
       "      <th>S&amp;P 500</th>\n",
       "    </tr>\n",
       "    <tr>\n",
       "      <th>date</th>\n",
       "      <th></th>\n",
       "      <th></th>\n",
       "      <th></th>\n",
       "      <th></th>\n",
       "      <th></th>\n",
       "    </tr>\n",
       "  </thead>\n",
       "  <tbody>\n",
       "    <tr>\n",
       "      <th>2014-10-01</th>\n",
       "      <td>31.950240</td>\n",
       "      <td>14.991826</td>\n",
       "      <td>59.977830</td>\n",
       "      <td>51.948712</td>\n",
       "      <td>194.35</td>\n",
       "    </tr>\n",
       "    <tr>\n",
       "      <th>2014-10-02</th>\n",
       "      <td>31.936110</td>\n",
       "      <td>14.994072</td>\n",
       "      <td>59.978626</td>\n",
       "      <td>51.957619</td>\n",
       "      <td>194.38</td>\n",
       "    </tr>\n",
       "    <tr>\n",
       "      <th>2014-10-03</th>\n",
       "      <td>31.969707</td>\n",
       "      <td>14.999596</td>\n",
       "      <td>60.002264</td>\n",
       "      <td>52.022484</td>\n",
       "      <td>196.52</td>\n",
       "    </tr>\n",
       "    <tr>\n",
       "      <th>2014-10-06</th>\n",
       "      <td>32.048215</td>\n",
       "      <td>14.999471</td>\n",
       "      <td>60.006244</td>\n",
       "      <td>52.036387</td>\n",
       "      <td>196.29</td>\n",
       "    </tr>\n",
       "    <tr>\n",
       "      <th>2014-10-07</th>\n",
       "      <td>31.964216</td>\n",
       "      <td>14.994720</td>\n",
       "      <td>59.993735</td>\n",
       "      <td>52.005864</td>\n",
       "      <td>193.26</td>\n",
       "    </tr>\n",
       "  </tbody>\n",
       "</table>\n",
       "</div>"
      ],
      "text/plain": [
       "            SOROS FUND MANAGEMENT LLC  PAULSON & CO.INC.  \\\n",
       "date                                                       \n",
       "2014-10-01                  31.950240          14.991826   \n",
       "2014-10-02                  31.936110          14.994072   \n",
       "2014-10-03                  31.969707          14.999596   \n",
       "2014-10-06                  32.048215          14.999471   \n",
       "2014-10-07                  31.964216          14.994720   \n",
       "\n",
       "            TIGER GLOBAL MANAGEMENT LLC  BERKSHIRE HATHAWAY INC  S&P 500  \n",
       "date                                                                      \n",
       "2014-10-01                    59.977830               51.948712   194.35  \n",
       "2014-10-02                    59.978626               51.957619   194.38  \n",
       "2014-10-03                    60.002264               52.022484   196.52  \n",
       "2014-10-06                    60.006244               52.036387   196.29  \n",
       "2014-10-07                    59.993735               52.005864   193.26  "
      ]
     },
     "execution_count": 4,
     "metadata": {},
     "output_type": "execute_result"
    }
   ],
   "source": [
    "# Import the data by reading in the CSV file and setting the DatetimeIndex \n",
    "# Review the first 5 rows of the DataFrame\n",
    "whale_navs_df = pd.read_csv(\"./Resources/whale_navs.csv\", index_col=\"date\", parse_dates=True, infer_datetime_format=True)\n",
    "\n",
    "whale_navs_df.head()"
   ]
  },
  {
   "cell_type": "markdown",
   "metadata": {},
   "source": [
    "#### Step 3: Use the Pandas `pct_change` function together with `dropna` to create the daily returns DataFrame. Base this DataFrame on the NAV prices of the four portfolios and on the closing price of the S&P 500 Index. Review the first five rows of the daily returns DataFrame."
   ]
  },
  {
   "cell_type": "code",
   "execution_count": 5,
   "metadata": {},
   "outputs": [
    {
     "data": {
      "text/html": [
       "<div>\n",
       "<style scoped>\n",
       "    .dataframe tbody tr th:only-of-type {\n",
       "        vertical-align: middle;\n",
       "    }\n",
       "\n",
       "    .dataframe tbody tr th {\n",
       "        vertical-align: top;\n",
       "    }\n",
       "\n",
       "    .dataframe thead th {\n",
       "        text-align: right;\n",
       "    }\n",
       "</style>\n",
       "<table border=\"1\" class=\"dataframe\">\n",
       "  <thead>\n",
       "    <tr style=\"text-align: right;\">\n",
       "      <th></th>\n",
       "      <th>SOROS FUND MANAGEMENT LLC</th>\n",
       "      <th>PAULSON &amp; CO.INC.</th>\n",
       "      <th>TIGER GLOBAL MANAGEMENT LLC</th>\n",
       "      <th>BERKSHIRE HATHAWAY INC</th>\n",
       "      <th>S&amp;P 500</th>\n",
       "    </tr>\n",
       "    <tr>\n",
       "      <th>date</th>\n",
       "      <th></th>\n",
       "      <th></th>\n",
       "      <th></th>\n",
       "      <th></th>\n",
       "      <th></th>\n",
       "    </tr>\n",
       "  </thead>\n",
       "  <tbody>\n",
       "    <tr>\n",
       "      <th>2014-10-02</th>\n",
       "      <td>-0.000442</td>\n",
       "      <td>0.000150</td>\n",
       "      <td>0.000013</td>\n",
       "      <td>0.000171</td>\n",
       "      <td>0.000154</td>\n",
       "    </tr>\n",
       "    <tr>\n",
       "      <th>2014-10-03</th>\n",
       "      <td>0.001052</td>\n",
       "      <td>0.000368</td>\n",
       "      <td>0.000394</td>\n",
       "      <td>0.001248</td>\n",
       "      <td>0.011009</td>\n",
       "    </tr>\n",
       "    <tr>\n",
       "      <th>2014-10-06</th>\n",
       "      <td>0.002456</td>\n",
       "      <td>-0.000008</td>\n",
       "      <td>0.000066</td>\n",
       "      <td>0.000267</td>\n",
       "      <td>-0.001170</td>\n",
       "    </tr>\n",
       "    <tr>\n",
       "      <th>2014-10-07</th>\n",
       "      <td>-0.002621</td>\n",
       "      <td>-0.000317</td>\n",
       "      <td>-0.000208</td>\n",
       "      <td>-0.000587</td>\n",
       "      <td>-0.015436</td>\n",
       "    </tr>\n",
       "    <tr>\n",
       "      <th>2014-10-08</th>\n",
       "      <td>0.000390</td>\n",
       "      <td>0.000369</td>\n",
       "      <td>0.000242</td>\n",
       "      <td>0.000842</td>\n",
       "      <td>0.017489</td>\n",
       "    </tr>\n",
       "  </tbody>\n",
       "</table>\n",
       "</div>"
      ],
      "text/plain": [
       "            SOROS FUND MANAGEMENT LLC  PAULSON & CO.INC.  \\\n",
       "date                                                       \n",
       "2014-10-02                  -0.000442           0.000150   \n",
       "2014-10-03                   0.001052           0.000368   \n",
       "2014-10-06                   0.002456          -0.000008   \n",
       "2014-10-07                  -0.002621          -0.000317   \n",
       "2014-10-08                   0.000390           0.000369   \n",
       "\n",
       "            TIGER GLOBAL MANAGEMENT LLC  BERKSHIRE HATHAWAY INC   S&P 500  \n",
       "date                                                                       \n",
       "2014-10-02                     0.000013                0.000171  0.000154  \n",
       "2014-10-03                     0.000394                0.001248  0.011009  \n",
       "2014-10-06                     0.000066                0.000267 -0.001170  \n",
       "2014-10-07                    -0.000208               -0.000587 -0.015436  \n",
       "2014-10-08                     0.000242                0.000842  0.017489  "
      ]
     },
     "execution_count": 5,
     "metadata": {},
     "output_type": "execute_result"
    }
   ],
   "source": [
    "# Prepare for the analysis by converting the dataframe of NAVs and prices to daily returns\n",
    "# Drop any rows with all missing values\n",
    "# Review the first five rows of the daily returns DataFrame.\n",
    "navs_daily_returns = whale_navs_df.pct_change().dropna()\n",
    "navs_daily_returns.head()"
   ]
  },
  {
   "cell_type": "markdown",
   "metadata": {},
   "source": [
    "---"
   ]
  },
  {
   "cell_type": "markdown",
   "metadata": {},
   "source": [
    "## Quantitative Analysis\n",
    "\n",
    "The analysis has several components: performance, volatility, risk, risk-return profile, and portfolio diversification. You’ll analyze each component one at a time."
   ]
  },
  {
   "cell_type": "markdown",
   "metadata": {},
   "source": [
    "###  Analyze the Performance\n",
    "\n",
    "Analyze the data to determine if any of the portfolios outperform the broader stock market, which the S&P 500 represents."
   ]
  },
  {
   "cell_type": "markdown",
   "metadata": {},
   "source": [
    "#### Step 1:  Use the default Pandas `plot` function to visualize the daily return data of the four fund portfolios and the S&P 500. Be sure to include the `title` parameter, and adjust the figure size if necessary."
   ]
  },
  {
   "cell_type": "code",
   "execution_count": 7,
   "metadata": {},
   "outputs": [
    {
     "data": {
      "text/plain": [
       "<AxesSubplot:title={'center':'Daily Return Data'}, xlabel='date'>"
      ]
     },
     "execution_count": 7,
     "metadata": {},
     "output_type": "execute_result"
    },
    {
     "data": {
      "image/png": "[encoded data removed]",
      "text/plain": [
       "<Figure size 1080x720 with 1 Axes>"
      ]
     },
     "metadata": {
      "needs_background": "light"
     },
     "output_type": "display_data"
    }
   ],
   "source": [
    "# Plot the daily return data of the 4 funds and the S&P 500 \n",
    "# Inclue a title parameter and adjust the figure size\n",
    "navs_daily_returns.plot(figsize = (15,10), title = \"Daily Return Data\")"
   ]
  },
  {
   "cell_type": "markdown",
   "metadata": {},
   "source": [
    "#### Step 2: Use the Pandas `cumprod` function to calculate the cumulative returns for the four fund portfolios and the S&P 500. Review the last five rows of the cumulative returns DataFrame by using the Pandas `tail` function."
   ]
  },
  {
   "cell_type": "code",
   "execution_count": 9,
   "metadata": {},
   "outputs": [
    {
     "data": {
      "text/html": [
       "<div>\n",
       "<style scoped>\n",
       "    .dataframe tbody tr th:only-of-type {\n",
       "        vertical-align: middle;\n",
       "    }\n",
       "\n",
       "    .dataframe tbody tr th {\n",
       "        vertical-align: top;\n",
       "    }\n",
       "\n",
       "    .dataframe thead th {\n",
       "        text-align: right;\n",
       "    }\n",
       "</style>\n",
       "<table border=\"1\" class=\"dataframe\">\n",
       "  <thead>\n",
       "    <tr style=\"text-align: right;\">\n",
       "      <th></th>\n",
       "      <th>SOROS FUND MANAGEMENT LLC</th>\n",
       "      <th>PAULSON &amp; CO.INC.</th>\n",
       "      <th>TIGER GLOBAL MANAGEMENT LLC</th>\n",
       "      <th>BERKSHIRE HATHAWAY INC</th>\n",
       "      <th>S&amp;P 500</th>\n",
       "    </tr>\n",
       "    <tr>\n",
       "      <th>date</th>\n",
       "      <th></th>\n",
       "      <th></th>\n",
       "      <th></th>\n",
       "      <th></th>\n",
       "      <th></th>\n",
       "    </tr>\n",
       "  </thead>\n",
       "  <tbody>\n",
       "    <tr>\n",
       "      <th>2014-10-02</th>\n",
       "      <td>0.999558</td>\n",
       "      <td>1.000150</td>\n",
       "      <td>1.000013</td>\n",
       "      <td>1.000171</td>\n",
       "      <td>1.000154</td>\n",
       "    </tr>\n",
       "    <tr>\n",
       "      <th>2014-10-03</th>\n",
       "      <td>1.000609</td>\n",
       "      <td>1.000518</td>\n",
       "      <td>1.000407</td>\n",
       "      <td>1.001420</td>\n",
       "      <td>1.011165</td>\n",
       "    </tr>\n",
       "    <tr>\n",
       "      <th>2014-10-06</th>\n",
       "      <td>1.003066</td>\n",
       "      <td>1.000510</td>\n",
       "      <td>1.000474</td>\n",
       "      <td>1.001688</td>\n",
       "      <td>1.009982</td>\n",
       "    </tr>\n",
       "    <tr>\n",
       "      <th>2014-10-07</th>\n",
       "      <td>1.000437</td>\n",
       "      <td>1.000193</td>\n",
       "      <td>1.000265</td>\n",
       "      <td>1.001100</td>\n",
       "      <td>0.994392</td>\n",
       "    </tr>\n",
       "    <tr>\n",
       "      <th>2014-10-08</th>\n",
       "      <td>1.000828</td>\n",
       "      <td>1.000563</td>\n",
       "      <td>1.000507</td>\n",
       "      <td>1.001943</td>\n",
       "      <td>1.011783</td>\n",
       "    </tr>\n",
       "  </tbody>\n",
       "</table>\n",
       "</div>"
      ],
      "text/plain": [
       "            SOROS FUND MANAGEMENT LLC  PAULSON & CO.INC.  \\\n",
       "date                                                       \n",
       "2014-10-02                   0.999558           1.000150   \n",
       "2014-10-03                   1.000609           1.000518   \n",
       "2014-10-06                   1.003066           1.000510   \n",
       "2014-10-07                   1.000437           1.000193   \n",
       "2014-10-08                   1.000828           1.000563   \n",
       "\n",
       "            TIGER GLOBAL MANAGEMENT LLC  BERKSHIRE HATHAWAY INC   S&P 500  \n",
       "date                                                                       \n",
       "2014-10-02                     1.000013                1.000171  1.000154  \n",
       "2014-10-03                     1.000407                1.001420  1.011165  \n",
       "2014-10-06                     1.000474                1.001688  1.009982  \n",
       "2014-10-07                     1.000265                1.001100  0.994392  \n",
       "2014-10-08                     1.000507                1.001943  1.011783  "
      ]
     },
     "execution_count": 9,
     "metadata": {},
     "output_type": "execute_result"
    }
   ],
   "source": [
    "# Calculate and plot the cumulative returns of the 4 fund portfolios and the S&P 500\n",
    "# Review the last 5 rows of the cumulative returns DataFrame\n",
    "cumulative_returns = (1 + navs_daily_returns).cumprod()\n",
    "\n",
    "cumulative_returns.head()"
   ]
  },
  {
   "cell_type": "markdown",
   "metadata": {},
   "source": [
    "#### Step 3: Use the default Pandas `plot` to visualize the cumulative return values for the four funds and the S&P 500 over time. Be sure to include the `title` parameter, and adjust the figure size if necessary."
   ]
  },
  {
   "cell_type": "code",
   "execution_count": null,
   "metadata": {},
   "outputs": [],
   "source": [
    "# Visualize the cumulative returns using the Pandas plot function\n",
    "# Include a title parameter and adjust the figure size\n",
    "# YOUR CODE HERE\n"
   ]
  },
  {
   "cell_type": "markdown",
   "metadata": {},
   "source": [
    "#### Step 4: Answer the following question: Based on the cumulative return data and the visualization, do any of the four fund portfolios outperform the S&P 500 Index?"
   ]
  },
  {
   "cell_type": "markdown",
   "metadata": {},
   "source": [
    "**Question** Based on the cumulative return data and the visualization, do any of the four fund portfolios outperform the S&P 500 Index?\n",
    "\n",
    "**Answer** # YOUR ANSWER HERE"
   ]
  },
  {
   "cell_type": "markdown",
   "metadata": {},
   "source": [
    "---"
   ]
  },
  {
   "cell_type": "markdown",
   "metadata": {},
   "source": [
    "### Analyze the Volatility\n",
    "\n",
    "Analyze the volatility of each of the four fund portfolios and of the S&P 500 Index by using box plots."
   ]
  },
  {
   "cell_type": "markdown",
   "metadata": {},
   "source": [
    "#### Step 1: Use the Pandas `plot` function and the `kind=\"box\"` parameter to visualize the daily return data for each of the four portfolios and for the S&P 500 in a box plot. Be sure to include the `title` parameter, and adjust the figure size if necessary."
   ]
  },
  {
   "cell_type": "code",
   "execution_count": null,
   "metadata": {},
   "outputs": [],
   "source": [
    "# Use the daily return data to create box plots to visualize the volatility of the 4 funds and the S&P 500 \n",
    "# Include a title parameter and adjust the figure size\n",
    "# YOUR CODE HERE\n"
   ]
  },
  {
   "cell_type": "markdown",
   "metadata": {},
   "source": [
    "#### Step 2: Use the Pandas `drop` function to create a new DataFrame that contains the data for just the four fund portfolios by dropping the S&P 500 column. Visualize the daily return data for just the four fund portfolios by using another box plot. Be sure to include the `title` parameter, and adjust the figure size if necessary."
   ]
  },
  {
   "cell_type": "code",
   "execution_count": null,
   "metadata": {},
   "outputs": [],
   "source": [
    "# Create a new DataFrame containing only the 4 fund portfolios by dropping the S&P 500 column from the DataFrame\n",
    "# Create box plots to reflect the return data for only the 4 fund portfolios\n",
    "# Include a title parameter and adjust the figure size\n",
    "# YOUR CODE HERE\n"
   ]
  },
  {
   "cell_type": "markdown",
   "metadata": {},
   "source": [
    "#### Step 3: Answer the following question: Based on the box plot visualization of just the four fund portfolios, which fund was the most volatile (with the greatest spread) and which was the least volatile (with the smallest spread)?"
   ]
  },
  {
   "cell_type": "markdown",
   "metadata": {},
   "source": [
    "**Question** Based on the box plot visualization of just the four fund portfolios, which fund was the most volatile (with the greatest spread) and which was the least volatile (with the smallest spread)?\n",
    "\n",
    "**Answer** # YOUR ANSWER HERE"
   ]
  },
  {
   "cell_type": "markdown",
   "metadata": {},
   "source": [
    "---"
   ]
  },
  {
   "cell_type": "markdown",
   "metadata": {},
   "source": [
    "### Analyze the Risk\n",
    "\n",
    "Evaluate the risk profile of each portfolio by using the standard deviation and the beta."
   ]
  },
  {
   "cell_type": "markdown",
   "metadata": {},
   "source": [
    "#### Step 1: Use the Pandas `std` function to calculate the standard deviation for each of the four portfolios and for the S&P 500. Review the standard deviation calculations, sorted from smallest to largest."
   ]
  },
  {
   "cell_type": "code",
   "execution_count": null,
   "metadata": {},
   "outputs": [],
   "source": [
    "# Calculate and sort the standard deviation for all 4 portfolios and the S&P 500\n",
    "# Review the standard deviations sorted smallest to largest\n",
    "# YOUR CODE HERE\n"
   ]
  },
  {
   "cell_type": "markdown",
   "metadata": {},
   "source": [
    "#### Step 2: Calculate the annualized standard deviation for each of the four portfolios and for the S&P 500. To do that, multiply the standard deviation by the square root of the number of trading days. Use 252 for that number."
   ]
  },
  {
   "cell_type": "code",
   "execution_count": null,
   "metadata": {},
   "outputs": [],
   "source": [
    "# Calculate and sort the annualized standard deviation (252 trading days) of the 4 portfolios and the S&P 500\n",
    "# Review the annual standard deviations smallest to largest\n",
    "# YOUR CODE HERE\n"
   ]
  },
  {
   "cell_type": "markdown",
   "metadata": {},
   "source": [
    "#### Step 3: Use the daily returns DataFrame and a 21-day rolling window to plot the rolling standard deviations of the four fund portfolios and of the S&P 500 index. Be sure to include the `title` parameter, and adjust the figure size if necessary."
   ]
  },
  {
   "cell_type": "code",
   "execution_count": null,
   "metadata": {},
   "outputs": [],
   "source": [
    "# Using the daily returns DataFrame and a 21-day rolling window, \n",
    "# plot the rolling standard deviation of the 4 portfolios and the S&P 500\n",
    "# Include a title parameter and adjust the figure size\n",
    "# YOUR CODE HERE\n"
   ]
  },
  {
   "cell_type": "markdown",
   "metadata": {},
   "source": [
    "#### Step 4: Use the daily returns DataFrame and a 21-day rolling window to plot the rolling standard deviations of only the four fund portfolios. Be sure to include the `title` parameter, and adjust the figure size if necessary."
   ]
  },
  {
   "cell_type": "code",
   "execution_count": null,
   "metadata": {},
   "outputs": [],
   "source": [
    "# Using the daily return data and a 21-day rolling window, plot the rolling standard deviation of just the 4 portfolios. \n",
    "# Include a title parameter and adjust the figure size\n",
    "# YOUR CODE HERE\n"
   ]
  },
  {
   "cell_type": "markdown",
   "metadata": {},
   "source": [
    "#### Step 5: Answer the following three questions:\n",
    "\n",
    "1. Based on the annualized standard deviation, which portfolios pose more risk than the S&P 500?\n",
    "\n",
    "2. Based on the rolling metrics, does the risk of each portfolio increase at the same time that the risk of the S&P 500 increases?\n",
    "\n",
    "3. Based on the rolling standard deviations of only the four fund portfolios, which portfolio poses the most risk? Does this change over time?"
   ]
  },
  {
   "cell_type": "markdown",
   "metadata": {},
   "source": [
    "**Question 1**  Based on the annualized standard deviation, which portfolios pose more risk than the S&P 500?\n",
    "\n",
    "**Answer 1** # YOUR ANSWER HERE"
   ]
  },
  {
   "cell_type": "markdown",
   "metadata": {},
   "source": [
    "**Question 2** Based on the rolling metrics, does the risk of each portfolio increase at the same time that the risk of the S&P 500 increases?\n",
    "\n",
    "**Answer 2** # YOUR ANSWER HERE\n"
   ]
  },
  {
   "cell_type": "markdown",
   "metadata": {},
   "source": [
    "**Question 3** Based on the rolling standard deviations of only the four fund portfolios, which portfolio poses the most risk? Does this change over time? \n",
    "\n",
    "**Answer 3** # YOUR ANSWER HERE"
   ]
  },
  {
   "cell_type": "markdown",
   "metadata": {},
   "source": [
    "---"
   ]
  },
  {
   "cell_type": "markdown",
   "metadata": {},
   "source": [
    "### Analyze the Risk-Return Profile\n",
    "\n",
    "To determine the overall risk of an asset or portfolio, quantitative analysts and investment managers consider not only its risk metrics but also its risk-return profile. After all, if you have two portfolios that each offer a 10% return but one has less risk, you’d probably invest in the smaller-risk portfolio. For this reason, you need to consider the Sharpe ratios for each portfolio."
   ]
  },
  {
   "cell_type": "markdown",
   "metadata": {},
   "source": [
    "#### Step 1: Use the daily return DataFrame to calculate the annualized average return data for the four fund portfolios and for the S&P 500. Use 252 for the number of trading days. Review the annualized average returns, sorted from lowest to highest."
   ]
  },
  {
   "cell_type": "code",
   "execution_count": null,
   "metadata": {},
   "outputs": [],
   "source": [
    "# Calculate the annual average return data for the for fund portfolios and the S&P 500\n",
    "# Use 252 as the number of trading days in the year\n",
    "# Review the annual average returns sorted from lowest to highest\n",
    "# YOUR CODE HERE\n"
   ]
  },
  {
   "cell_type": "markdown",
   "metadata": {},
   "source": [
    "#### Step 2: Calculate the Sharpe ratios for the four fund portfolios and for the S&P 500. To do that, divide the annualized average return by the annualized standard deviation for each. Review the resulting Sharpe ratios, sorted from lowest to highest."
   ]
  },
  {
   "cell_type": "code",
   "execution_count": null,
   "metadata": {},
   "outputs": [],
   "source": [
    "# Calculate the annualized Sharpe Ratios for each of the 4 portfolios and the S&P 500.\n",
    "# Review the Sharpe ratios sorted lowest to highest\n",
    "# YOUR CODE HERE\n"
   ]
  },
  {
   "cell_type": "markdown",
   "metadata": {},
   "source": [
    "#### Step 3: Visualize the Sharpe ratios for the four funds and for the S&P 500 in a bar chart. Be sure to include the `title` parameter, and adjust the figure size if necessary."
   ]
  },
  {
   "cell_type": "code",
   "execution_count": null,
   "metadata": {},
   "outputs": [],
   "source": [
    "# Visualize the Sharpe ratios as a bar chart\n",
    "# Include a title parameter and adjust the figure size\n",
    "# YOUR CODE HERE\n"
   ]
  },
  {
   "cell_type": "markdown",
   "metadata": {},
   "source": [
    "#### Step 4: Answer the following question: Which of the four portfolios offers the best risk-return profile? Which offers the worst?"
   ]
  },
  {
   "cell_type": "markdown",
   "metadata": {},
   "source": [
    "**Question** Which of the four portfolios offers the best risk-return profile? Which offers the worst?\n",
    "    \n",
    "**Answer** # YOUR ANSWER HERE"
   ]
  },
  {
   "cell_type": "markdown",
   "metadata": {},
   "source": [
    "---"
   ]
  },
  {
   "cell_type": "markdown",
   "metadata": {},
   "source": [
    "### Diversify the Portfolio\n",
    "\n",
    "Your analysis is nearing completion. Now, you need to evaluate how the portfolios react relative to the broader market. Based on your analysis so far, choose two portfolios that you’re most likely to recommend as investment options."
   ]
  },
  {
   "cell_type": "markdown",
   "metadata": {},
   "source": [
    "#### Use the Pandas `var` function to calculate the variance of the S&P 500 by using a 60-day rolling window. Visualize the last five rows of the variance of the S&P 500."
   ]
  },
  {
   "cell_type": "code",
   "execution_count": null,
   "metadata": {},
   "outputs": [],
   "source": [
    "# Calculate the variance of the S&P 500 using a rolling 60-day window.\n",
    "# YOUR CODE HERE"
   ]
  },
  {
   "cell_type": "markdown",
   "metadata": {},
   "source": [
    "#### For each of the two portfolios that you chose, complete the following steps:\n",
    "\n",
    "1. Using the 60-day rolling window, the daily return data, and the S&P 500 returns, calculate the covariance. Review the last five rows of the covariance of the portfolio.\n",
    "\n",
    "2. Calculate the beta of the portfolio. To do that, divide the covariance of the portfolio by the variance of the S&P 500.\n",
    "\n",
    "3. Use the Pandas `mean` function to calculate the average value of the 60-day rolling beta of the portfolio.\n",
    "\n",
    "4. Plot the 60-day rolling beta. Be sure to include the `title` parameter, and adjust the figure size if necessary."
   ]
  },
  {
   "cell_type": "markdown",
   "metadata": {},
   "source": [
    "##### Portfolio 1 - Step 1: Using the 60-day rolling window, the daily return data, and the S&P 500 returns, calculate the covariance. Review the last five rows of the covariance of the portfolio."
   ]
  },
  {
   "cell_type": "code",
   "execution_count": null,
   "metadata": {},
   "outputs": [],
   "source": [
    "# Calculate the covariance using a 60-day rolling window \n",
    "# Review the last five rows of the covariance data\n",
    "# YOUR CODE HERE\n"
   ]
  },
  {
   "cell_type": "markdown",
   "metadata": {},
   "source": [
    "##### Portfolio 1 - Step 2: Calculate the beta of the portfolio. To do that, divide the covariance of the portfolio by the variance of the S&P 500."
   ]
  },
  {
   "cell_type": "code",
   "execution_count": null,
   "metadata": {},
   "outputs": [],
   "source": [
    "# Calculate the beta based on the 60-day rolling covariance compared to the market (S&P 500)\n",
    "# Review the last five rows of the beta information\n",
    "# YOUR CODE HERE\n"
   ]
  },
  {
   "cell_type": "markdown",
   "metadata": {},
   "source": [
    "##### Portfolio 1 - Step 3: Use the Pandas `mean` function to calculate the average value of the 60-day rolling beta of the portfolio."
   ]
  },
  {
   "cell_type": "code",
   "execution_count": null,
   "metadata": {},
   "outputs": [],
   "source": [
    "# Calculate the average of the 60-day rolling beta\n",
    "# YOUR CODE HERE\n"
   ]
  },
  {
   "cell_type": "markdown",
   "metadata": {},
   "source": [
    "##### Portfolio 1 - Step 4: Plot the 60-day rolling beta. Be sure to include the `title` parameter, and adjust the figure size if necessary."
   ]
  },
  {
   "cell_type": "code",
   "execution_count": null,
   "metadata": {},
   "outputs": [],
   "source": [
    "# Plot the rolling beta \n",
    "# Include a title parameter and adjust the figure size\n",
    "# YOUR CODE HERE\n"
   ]
  },
  {
   "cell_type": "markdown",
   "metadata": {},
   "source": [
    "##### Portfolio 2 - Step 1: Using the 60-day rolling window, the daily return data, and the S&P 500 returns, calculate the covariance. Review the last five rows of the covariance of the portfolio."
   ]
  },
  {
   "cell_type": "code",
   "execution_count": null,
   "metadata": {},
   "outputs": [],
   "source": [
    "# Calculate the covariance using a 60-day rolling window \n",
    "# Review the last five rows of the covariance data\n",
    "# YOUR CODE HERE\n"
   ]
  },
  {
   "cell_type": "markdown",
   "metadata": {},
   "source": [
    "##### Portfolio 2 - Step 2: Calculate the beta of the portfolio. To do that, divide the covariance of the portfolio by the variance of the S&P 500."
   ]
  },
  {
   "cell_type": "code",
   "execution_count": null,
   "metadata": {},
   "outputs": [],
   "source": [
    "# Calculate the beta based on the 60-day rolling covariance compared to the market (S&P 500)\n",
    "# Review the last five rows of the beta information\n",
    "# YOUR CODE HERE\n"
   ]
  },
  {
   "cell_type": "markdown",
   "metadata": {},
   "source": [
    "##### Portfolio 2 - Step 3: Use the Pandas `mean` function to calculate the average value of the 60-day rolling beta of the portfolio."
   ]
  },
  {
   "cell_type": "code",
   "execution_count": null,
   "metadata": {},
   "outputs": [],
   "source": [
    "# Calculate the average of the 60-day rolling beta\n",
    "# YOUR CODE HERE\n"
   ]
  },
  {
   "cell_type": "markdown",
   "metadata": {},
   "source": [
    "##### Portfolio 2 - Step 4: Plot the 60-day rolling beta. Be sure to include the `title` parameter, and adjust the figure size if necessary."
   ]
  },
  {
   "cell_type": "code",
   "execution_count": null,
   "metadata": {},
   "outputs": [],
   "source": [
    "# Plot the rolling beta \n",
    "# Include a title parameter and adjust the figure size\n",
    "# YOUR CODE HERE\n"
   ]
  },
  {
   "cell_type": "markdown",
   "metadata": {},
   "source": [
    "#### Answer the following two questions:\n",
    "\n",
    "1. Which of the two portfolios seem more sensitive to movements in the S&P 500?\n",
    "\n",
    "2. Which of the two portfolios do you recommend for inclusion in your firm’s suite of fund offerings?"
   ]
  },
  {
   "cell_type": "markdown",
   "metadata": {},
   "source": [
    "**Question 1** Which of the two portfolios seem more sensitive to movements in the S&P 500?\n",
    "    \n",
    "**Answer 1** # YOUR ANSWER HERE\n"
   ]
  },
  {
   "cell_type": "markdown",
   "metadata": {},
   "source": [
    "**Question 2** Which of the two portfolios do you recommend for inclusion in your firm’s suite of fund offerings?\n",
    "    \n",
    "**Answer 2** # YOUR ANSWER HERE"
   ]
  },
  {
   "cell_type": "markdown",
   "metadata": {},
   "source": [
    "---"
   ]
  }
 ],
 "metadata": {
  "file_extension": ".py",
  "kernelspec": {
   "display_name": "Python 3 (ipykernel)",
   "language": "python",
   "name": "python3"
  },
  "language_info": {
   "codemirror_mode": {
    "name": "ipython",
    "version": 3
   },
   "file_extension": ".py",
   "mimetype": "text/x-python",
   "name": "python",
   "nbconvert_exporter": "python",
   "pygments_lexer": "ipython3",
   "version": "3.7.13"
  },
  "mimetype": "text/x-python",
  "name": "python",
  "npconvert_exporter": "python",
  "pygments_lexer": "ipython3",
  "version": 3
 },
 "nbformat": 4,
 "nbformat_minor": 4
}
